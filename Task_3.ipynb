{
  "nbformat": 4,
  "nbformat_minor": 0,
  "metadata": {
    "colab": {
      "provenance": [],
      "authorship_tag": "ABX9TyOr5lzy1zZisp2XAA6Py0PV",
      "include_colab_link": true
    },
    "kernelspec": {
      "name": "python3",
      "display_name": "Python 3"
    },
    "language_info": {
      "name": "python"
    }
  },
  "cells": [
    {
      "cell_type": "markdown",
      "metadata": {
        "id": "view-in-github",
        "colab_type": "text"
      },
      "source": [
        "<a href=\"https://colab.research.google.com/github/Dedheepya-P/SkillCraft/blob/main/Task_3.ipynb\" target=\"_parent\"><img src=\"https://colab.research.google.com/assets/colab-badge.svg\" alt=\"Open In Colab\"/></a>"
      ]
    },
    {
      "cell_type": "code",
      "execution_count": 3,
      "metadata": {
        "colab": {
          "base_uri": "https://localhost:8080/"
        },
        "id": "0xzQ7QYR-vNM",
        "outputId": "f35c3de3-7b62-4627-fc9f-099b9f9bfd3b"
      },
      "outputs": [
        {
          "output_type": "stream",
          "name": "stdout",
          "text": [
            "Enter a password to check its strength: passkey@123\n",
            "\n",
            "Password Strength: Moderate\n",
            "Suggestions to improve your password:\n",
            "- Add uppercase letters.\n",
            "- Avoid common patterns like '123', 'abc', or 'password'.\n"
          ]
        }
      ],
      "source": [
        "import re\n",
        "\n",
        "def check_password_strength(password):\n",
        "    score = 0\n",
        "    feedback = []\n",
        "\n",
        "    # Criteria definitions\n",
        "    length_criteria = len(password) >= 8\n",
        "    long_length_bonus = len(password) >= 12\n",
        "    uppercase_criteria = re.search(r'[A-Z]', password)\n",
        "    lowercase_criteria = re.search(r'[a-z]', password)\n",
        "    number_criteria = re.search(r'[0-9]', password)\n",
        "    special_char_criteria = re.search(r'[!@#$%^&*(),.?\":{}|<>]', password)\n",
        "    common_patterns = ['123', 'abc', 'password', 'qwerty']\n",
        "\n",
        "    # Scoring\n",
        "    if length_criteria:\n",
        "        score += 1\n",
        "    else:\n",
        "        feedback.append(\"Use at least 8 characters.\")\n",
        "\n",
        "    if long_length_bonus:\n",
        "        score += 1\n",
        "\n",
        "    if uppercase_criteria:\n",
        "        score += 1\n",
        "    else:\n",
        "        feedback.append(\"Add uppercase letters.\")\n",
        "\n",
        "    if lowercase_criteria:\n",
        "        score += 1\n",
        "    else:\n",
        "        feedback.append(\"Add lowercase letters.\")\n",
        "\n",
        "    if number_criteria:\n",
        "        score += 1\n",
        "    else:\n",
        "        feedback.append(\"Add numbers.\")\n",
        "\n",
        "    if special_char_criteria:\n",
        "        score += 1\n",
        "    else:\n",
        "        feedback.append(\"Add special characters (e.g. !, @, #, $).\")\n",
        "\n",
        "    # Check for common patterns\n",
        "    if any(pattern in password.lower() for pattern in common_patterns):\n",
        "        score -= 1\n",
        "        feedback.append(\"Avoid common patterns like '123', 'abc', or 'password'.\")\n",
        "\n",
        "    # Strength classification\n",
        "    if score >= 6:\n",
        "        strength = \"Very Strong\"\n",
        "    elif score >= 5:\n",
        "        strength = \"Strong\"\n",
        "    elif score >= 3:\n",
        "        strength = \"Moderate\"\n",
        "    else:\n",
        "        strength = \"Weak\"\n",
        "\n",
        "    return strength, feedback\n",
        "\n",
        "# Example usage\n",
        "if __name__ == \"__main__\":\n",
        "    user_password = input(\"Enter a password to check its strength: \")\n",
        "    strength, suggestions = check_password_strength(user_password)\n",
        "    print(f\"\\nPassword Strength: {strength}\")\n",
        "    if suggestions:\n",
        "        print(\"Suggestions to improve your password:\")\n",
        "        for suggestion in suggestions:\n",
        "            print(f\"- {suggestion}\")\n"
      ]
    },
    {
      "cell_type": "code",
      "source": [],
      "metadata": {
        "id": "NuVCMfrR_hRo"
      },
      "execution_count": null,
      "outputs": []
    }
  ]
}