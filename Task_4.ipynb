{
  "nbformat": 4,
  "nbformat_minor": 0,
  "metadata": {
    "colab": {
      "provenance": [],
      "authorship_tag": "ABX9TyOju9kwDwsFM1prTDUglHG1",
      "include_colab_link": true
    },
    "kernelspec": {
      "name": "python3",
      "display_name": "Python 3"
    },
    "language_info": {
      "name": "python"
    }
  },
  "cells": [
    {
      "cell_type": "markdown",
      "metadata": {
        "id": "view-in-github",
        "colab_type": "text"
      },
      "source": [
        "<a href=\"https://colab.research.google.com/github/Dedheepya-P/SkillCraft/blob/main/Task_4.ipynb\" target=\"_parent\"><img src=\"https://colab.research.google.com/assets/colab-badge.svg\" alt=\"Open In Colab\"/></a>"
      ]
    },
    {
      "cell_type": "code",
      "execution_count": 41,
      "metadata": {
        "colab": {
          "base_uri": "https://localhost:8080/"
        },
        "id": "NfBaWCGYDBak",
        "outputId": "877005ad-621c-4644-903c-2dc756ec2680"
      },
      "outputs": [
        {
          "output_type": "stream",
          "name": "stdout",
          "text": [
            "Callback registered. Log file: /content/colab_key_log.txt\n"
          ]
        }
      ],
      "source": [
        "from google.colab import output\n",
        "import time\n",
        "\n",
        "# Log file path\n",
        "LOG_FILE = \"/content/colab_key_log.txt\"\n",
        "\n",
        "def append_to_log(text):\n",
        "    \"\"\"Append typed text from frontend to log file with timestamp.\"\"\"\n",
        "    if text is None:\n",
        "        return \"no data\"\n",
        "    ts = time.strftime(\"%Y-%m-%d %H:%M:%S\", time.localtime())\n",
        "    with open(LOG_FILE, \"a\", encoding=\"utf-8\") as f:\n",
        "        f.write(f\"{ts} {text}\\n\")\n",
        "    return \"ok\"\n",
        "\n",
        "# Register Python callback for JavaScript\n",
        "output.register_callback('colab.append_to_log', append_to_log)\n",
        "\n",
        "print(\"Callback registered. Log file:\", LOG_FILE)\n"
      ]
    },
    {
      "cell_type": "code",
      "source": [
        "from IPython.display import display, HTML\n",
        "\n",
        "html_code = \"\"\"\n",
        "<p><b>Type here:</b></p>\n",
        "<textarea id=\"ta\" rows=\"6\" cols=\"70\"\n",
        "  placeholder=\"Keystrokes will be logged to /content/colab_key_log.txt\"></textarea>\n",
        "\n",
        "<script>\n",
        "let buf = \"\";\n",
        "let timer = null;\n",
        "\n",
        "function flush(){\n",
        "  if(!buf) return;\n",
        "  google.colab.kernel.invokeFunction('colab.append_to_log', [buf], {});\n",
        "  buf = \"\";\n",
        "}\n",
        "\n",
        "document.getElementById('ta').addEventListener('keydown', ev => {\n",
        "  let k = ev.key;\n",
        "  if(k.length === 1) buf += k;           // normal characters\n",
        "  else if(k === \"Enter\") buf += \"[Enter]\\\\n\";\n",
        "  else if(k === \"Backspace\") buf += \"[Backspace]\";\n",
        "  else buf += \"[\"+k+\"]\";                  // other special keys\n",
        "  if(timer) clearTimeout(timer);\n",
        "  timer = setTimeout(flush, 600);        // flush after 600ms pause\n",
        "});\n",
        "\n",
        "document.getElementById('ta').addEventListener('blur', flush); // flush on leaving textarea\n",
        "</script>\n",
        "\"\"\"\n",
        "\n",
        "display(HTML(html_code))\n"
      ],
      "metadata": {
        "colab": {
          "base_uri": "https://localhost:8080/",
          "height": 152
        },
        "id": "VokIdZ7uDPAK",
        "outputId": "f98e2e4f-2fec-47c5-b038-9109426df990"
      },
      "execution_count": 44,
      "outputs": [
        {
          "output_type": "display_data",
          "data": {
            "text/plain": [
              "<IPython.core.display.HTML object>"
            ],
            "text/html": [
              "\n",
              "<p><b>Type here:</b></p>\n",
              "<textarea id=\"ta\" rows=\"6\" cols=\"70\"\n",
              "  placeholder=\"Keystrokes will be logged to /content/colab_key_log.txt\"></textarea>\n",
              "\n",
              "<script>\n",
              "let buf = \"\";\n",
              "let timer = null;\n",
              "\n",
              "function flush(){\n",
              "  if(!buf) return;\n",
              "  google.colab.kernel.invokeFunction('colab.append_to_log', [buf], {});\n",
              "  buf = \"\";\n",
              "}\n",
              "\n",
              "document.getElementById('ta').addEventListener('keydown', ev => {\n",
              "  let k = ev.key;\n",
              "  if(k.length === 1) buf += k;           // normal characters\n",
              "  else if(k === \"Enter\") buf += \"[Enter]\\n\";\n",
              "  else if(k === \"Backspace\") buf += \"[Backspace]\";\n",
              "  else buf += \"[\"+k+\"]\";                  // other special keys\n",
              "  if(timer) clearTimeout(timer);\n",
              "  timer = setTimeout(flush, 600);        // flush after 600ms pause\n",
              "});\n",
              "\n",
              "document.getElementById('ta').addEventListener('blur', flush); // flush on leaving textarea\n",
              "</script>\n"
            ]
          },
          "metadata": {}
        }
      ]
    },
    {
      "cell_type": "code",
      "source": [
        "import os\n",
        "from google.colab import files\n",
        "\n",
        "# Preview first 200 lines\n",
        "print(\"=== Preview (first 200 lines) ===\")\n",
        "if not os.path.exists(\"/content/colab_key_log.txt\"):\n",
        "    print(\"[No log file yet]\")\n",
        "else:\n",
        "    with open(\"/content/colab_key_log.txt\", \"r\", encoding=\"utf-8\") as f:\n",
        "        for i, line in enumerate(f):\n",
        "            if i >= 200: break\n",
        "            print(line, end=\"\")\n",
        "\n"
      ],
      "metadata": {
        "colab": {
          "base_uri": "https://localhost:8080/"
        },
        "id": "RE0GZ8RQEU9I",
        "outputId": "e503be05-4323-438d-8fd3-569a64a65bd1"
      },
      "execution_count": 45,
      "outputs": [
        {
          "output_type": "stream",
          "name": "stdout",
          "text": [
            "=== Preview (first 200 lines) ===\n",
            "2025-09-25 15:52:45 k\n",
            "2025-09-25 15:52:47 eu\n",
            "2025-09-25 15:52:48 [Backspace]y \n",
            "2025-09-25 15:52:49 lo\n",
            "2025-09-25 15:52:51 gg\n",
            "2025-09-25 15:52:53 er \n",
            "2025-09-25 15:53:08 log\n",
            "2025-09-25 15:53:19 [Backspace]\n",
            "2025-09-25 15:53:23 tes\n",
            "2025-09-25 15:53:24 [Backspace]x\n",
            "2025-09-25 15:53:26 [Backspace][Backspace][Backspace][Backspace][Backspace]\n",
            "2025-09-25 15:53:27 text\n",
            "2025-09-25 15:54:23 [Backspace]\n",
            "2025-09-25 15:54:34 skill cr\n",
            "2025-09-25 15:54:35 aft\n",
            "2025-09-25 15:54:46  \n",
            "2025-09-25 15:54:52 task \n",
            "2025-09-25 15:54:53 4\n",
            "2025-09-25 15:55:05  \n",
            "2025-09-25 15:55:07 key \n",
            "2025-09-25 15:55:09 logget\n",
            "2025-09-25 15:55:10 [Backspace]r\n",
            "2025-09-25 16:25:50 yuh\n",
            "2025-09-25 16:25:51  \n",
            "2025-09-25 16:25:53 key \n",
            "2025-09-25 16:25:54 logger\n"
          ]
        }
      ]
    },
    {
      "cell_type": "code",
      "source": [],
      "metadata": {
        "id": "VJaEqZHzlXd5"
      },
      "execution_count": null,
      "outputs": []
    }
  ]
}