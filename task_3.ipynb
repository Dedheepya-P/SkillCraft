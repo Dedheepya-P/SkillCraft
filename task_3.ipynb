{
  "nbformat": 4,
  "nbformat_minor": 0,
  "metadata": {
    "colab": {
      "provenance": [],
      "authorship_tag": "ABX9TyOrL7PBzL/dPcnWTRLtFHi4",
      "include_colab_link": true
    },
    "kernelspec": {
      "name": "python3",
      "display_name": "Python 3"
    },
    "language_info": {
      "name": "python"
    }
  },
  "cells": [
    {
      "cell_type": "markdown",
      "metadata": {
        "id": "view-in-github",
        "colab_type": "text"
      },
      "source": [
        "<a href=\"https://colab.research.google.com/github/Dedheepya-P/SkillCraft/blob/main/task_3.ipynb\" target=\"_parent\"><img src=\"https://colab.research.google.com/assets/colab-badge.svg\" alt=\"Open In Colab\"/></a>"
      ]
    },
    {
      "cell_type": "code",
      "execution_count": 2,
      "metadata": {
        "colab": {
          "base_uri": "https://localhost:8080/"
        },
        "id": "0xzQ7QYR-vNM",
        "outputId": "66be10b2-14c6-4192-e529-f0fb3c41ba95"
      },
      "outputs": [
        {
          "output_type": "stream",
          "name": "stdout",
          "text": [
            "Enter your password: passkey@123\n",
            "\n",
            "Password Analysis:\n",
            "Password: passkey@123\n",
            "Length OK: True\n",
            "Has Lowercase: True\n",
            "Has Uppercase: False\n",
            "Has Digit: True\n",
            "Has Special Char: True\n",
            "Score: 4\n",
            "Strength: Strong\n"
          ]
        }
      ],
      "source": [
        "import re\n",
        "\n",
        "def assess_password_strength(password):\n",
        "    # Criteria\n",
        "    length_criteria = len(password) >= 8\n",
        "    lowercase_criteria = bool(re.search(r\"[a-z]\", password))\n",
        "    uppercase_criteria = bool(re.search(r\"[A-Z]\", password))\n",
        "    digit_criteria = bool(re.search(r\"[0-9]\", password))\n",
        "    special_criteria = bool(re.search(r\"[@$!%*?&#^()_=+{}\\[\\]:;,.<>~]\", password))\n",
        "\n",
        "    # Score calculation\n",
        "    score = sum([length_criteria, lowercase_criteria, uppercase_criteria, digit_criteria, special_criteria])\n",
        "\n",
        "    # Assessment\n",
        "    if score <= 2:\n",
        "        strength = \"Weak\"\n",
        "    elif score == 3:\n",
        "        strength = \"Medium\"\n",
        "    elif score == 4:\n",
        "        strength = \"Strong\"\n",
        "    else:\n",
        "        strength = \"Very Strong\"\n",
        "\n",
        "    return {\n",
        "        \"Password\": password,\n",
        "        \"Length OK\": length_criteria,\n",
        "        \"Has Lowercase\": lowercase_criteria,\n",
        "        \"Has Uppercase\": uppercase_criteria,\n",
        "        \"Has Digit\": digit_criteria,\n",
        "        \"Has Special Char\": special_criteria,\n",
        "        \"Score\": score,\n",
        "        \"Strength\": strength\n",
        "    }\n",
        "\n",
        "# Take input from user\n",
        "password = input(\"Enter your password: \")\n",
        "result = assess_password_strength(password)\n",
        "\n",
        "# Show result\n",
        "print(\"\\nPassword Analysis:\")\n",
        "for key, value in result.items():\n",
        "    print(f\"{key}: {value}\")\n"
      ]
    },
    {
      "cell_type": "code",
      "source": [],
      "metadata": {
        "id": "NuVCMfrR_hRo"
      },
      "execution_count": null,
      "outputs": []
    }
  ]
}