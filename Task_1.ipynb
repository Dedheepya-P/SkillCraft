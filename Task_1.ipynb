{
  "nbformat": 4,
  "nbformat_minor": 0,
  "metadata": {
    "colab": {
      "provenance": [],
      "authorship_tag": "ABX9TyOgXTpBcumjfFLAWdo6kOzN",
      "include_colab_link": true
    },
    "kernelspec": {
      "name": "python3",
      "display_name": "Python 3"
    },
    "language_info": {
      "name": "python"
    }
  },
  "cells": [
    {
      "cell_type": "markdown",
      "metadata": {
        "id": "view-in-github",
        "colab_type": "text"
      },
      "source": [
        "<a href=\"https://colab.research.google.com/github/Dedheepya-P/SkillCraft/blob/main/Task_1.ipynb\" target=\"_parent\"><img src=\"https://colab.research.google.com/assets/colab-badge.svg\" alt=\"Open In Colab\"/></a>"
      ]
    },
    {
      "cell_type": "code",
      "execution_count": 2,
      "metadata": {
        "colab": {
          "base_uri": "https://localhost:8080/"
        },
        "id": "7Lz-xZVH-iSg",
        "outputId": "c5eee907-f397-4661-94dd-4e6c2690319d"
      },
      "outputs": [
        {
          "output_type": "stream",
          "name": "stdout",
          "text": [
            "Enter the text: wertyuicx\n",
            "Enter the shift value: 12345678\n",
            "\n",
            "Original:  wertyuicx\n",
            "Encrypted: qylnsocwr\n",
            "Decrypted: wertyuicx\n"
          ]
        }
      ],
      "source": [
        "\n",
        "def caesar_encrypt(text, shift):\n",
        "    result = \"\"\n",
        "    for char in text:\n",
        "        if char.isalpha():\n",
        "            base = ord('A') if char.isupper() else ord('a')\n",
        "            result += chr((ord(char) - base + shift) % 26 + base)\n",
        "        else:\n",
        "            result += char\n",
        "    return result\n",
        "\n",
        "def caesar_decrypt(text, shift):\n",
        "    return caesar_encrypt(text, -shift)\n",
        "\n",
        "msg = input(\"Enter the text: \")\n",
        "shift = int(input(\"Enter the shift value: \"))\n",
        "\n",
        "encrypted = caesar_encrypt(msg, shift)\n",
        "decrypted = caesar_decrypt(encrypted, shift)\n",
        "\n",
        "print()\n",
        "print(\"Original: \", msg)\n",
        "print(\"Encrypted:\", encrypted)\n",
        "print(\"Decrypted:\", decrypted)\n"
      ]
    },
    {
      "cell_type": "code",
      "source": [],
      "metadata": {
        "id": "oHY2zJidAlXA"
      },
      "execution_count": null,
      "outputs": []
    }
  ]
}