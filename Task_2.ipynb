{
  "nbformat": 4,
  "nbformat_minor": 0,
  "metadata": {
    "colab": {
      "provenance": [],
      "authorship_tag": "ABX9TyOIgUFZSQIDtUCb9gMc9kXa",
      "include_colab_link": true
    },
    "kernelspec": {
      "name": "python3",
      "display_name": "Python 3"
    },
    "language_info": {
      "name": "python"
    }
  },
  "cells": [
    {
      "cell_type": "markdown",
      "metadata": {
        "id": "view-in-github",
        "colab_type": "text"
      },
      "source": [
        "<a href=\"https://colab.research.google.com/github/Dedheepya-P/SkillCraft/blob/main/Task_2.ipynb\" target=\"_parent\"><img src=\"https://colab.research.google.com/assets/colab-badge.svg\" alt=\"Open In Colab\"/></a>"
      ]
    },
    {
      "cell_type": "code",
      "execution_count": 8,
      "metadata": {
        "colab": {
          "base_uri": "https://localhost:8080/"
        },
        "id": "-TH_fdupEgw0",
        "outputId": "5d4290b1-f306-4a3f-f17c-b09c29682f43"
      },
      "outputs": [
        {
          "output_type": "stream",
          "name": "stdout",
          "text": [
            "Image saved as encrypted.png\n",
            "Image saved as decrypted.png\n"
          ]
        }
      ],
      "source": [
        "# image_shift_cipher.py\n",
        "from PIL import Image\n",
        "\n",
        "def process_image(input_path, output_path, key=50):\n",
        "    \"\"\"\n",
        "    Encrypts or decrypts an image using color shift.\n",
        "    Positive key -> encryption\n",
        "    Negative key -> decryption\n",
        "    \"\"\"\n",
        "    img = Image.open(input_path)\n",
        "    pixels = img.load()\n",
        "\n",
        "    for i in range(img.size[0]):\n",
        "        for j in range(img.size[1]):\n",
        "            r, g, b = pixels[i, j]\n",
        "\n",
        "            # Apply shift (wrapping around 0-255)\n",
        "            r = (r + key) % 256\n",
        "            g = (g + key * 2) % 256\n",
        "            b = (b + key * 3) % 256\n",
        "\n",
        "            pixels[i, j] = (r, g, b)\n",
        "\n",
        "    img.save(output_path)\n",
        "    print(f\"Image saved as {output_path}\")\n",
        "\n",
        "\n",
        "# Example usage\n",
        "if __name__ == \"__main__\":\n",
        "    key = 40  # shift value\n",
        "\n",
        "    # Encrypt\n",
        "    process_image(\"input.jpg\", \"encrypted.png\", key)\n",
        "\n",
        "    # Decrypt (use negative key)\n",
        "    process_image(\"encrypted.png\", \"decrypted.png\", -key)\n"
      ]
    }
  ]
}